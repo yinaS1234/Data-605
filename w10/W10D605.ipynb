{
  "nbformat": 4,
  "nbformat_minor": 0,
  "metadata": {
    "colab": {
      "provenance": []
    },
    "kernelspec": {
      "name": "python3",
      "display_name": "Python 3"
    },
    "language_info": {
      "name": "python"
    }
  },
  "cells": [
    {
      "cell_type": "markdown",
      "source": [],
      "metadata": {
        "id": "7xHCPXK9rns7"
      }
    },
    {
      "cell_type": "markdown",
      "source": [
        "2 A study of the strengths of Ivy League football teams shows that if a school\n",
        "has a strong team one year it is equally likely to have a strong team or average\n",
        "team next year; if it has an average team, half the time it is average next year,\n",
        "and if it changes it is just as likely to become strong as weak; if it is weak it\n",
        "has 2/3 probability of remaining so and 1/3 of becoming average.\n",
        "(a) A school has a strong team. On the average, how long will it be before\n",
        "it has another strong team?\n",
        "(b) A school has a weak team; how long (on the average) must the alumni\n",
        "wait for a strong team?"
      ],
      "metadata": {
        "id": "WzQ9aIN5rnsZ"
      }
    },
    {
      "cell_type": "code",
      "execution_count": 8,
      "metadata": {
        "colab": {
          "base_uri": "https://localhost:8080/"
        },
        "id": "gQ9U_KwJjAC9",
        "outputId": "71144015-02dc-419c-8a8b-ae37b8aa8c1a"
      },
      "outputs": [
        {
          "output_type": "execute_result",
          "data": {
            "text/plain": [
              "array([0.38888889, 0.55555556])"
            ]
          },
          "metadata": {},
          "execution_count": 8
        }
      ],
      "source": [
        "import numpy as np\n",
        "\n",
        "# Transition matrix\n",
        "# States: 0 = Strong, 1 = Average, 2 = Weak\n",
        "P = np.array([[0.5, 0.5, 0.0],  # Strong to Strong, Average, Weak\n",
        "              [0.25, 0.5, 0.25],  # Average to Strong, Average, Weak\n",
        "              [0.0, 1/3, 2/3]])  # Weak to Strong, Average, Weak\n",
        "\n",
        "# (a) Expected time to return to Strong state from Strong\n",
        "# Solve (I - Q + 1)^T * 1 = 1, where Q is the submatrix of P without the Strong to Strong transition\n",
        "Q_a = P[1:, 1:]\n",
        "\n",
        "I_a = np.eye(len(Q_a))\n",
        "ones_a = np.ones(len(Q_a))\n",
        "expected_time_strong = np.linalg.inv(I_a - Q_a + np.ones((2, 2))).dot(ones_a)\n",
        "expected_time_strong\n",
        "\n"
      ]
    },
    {
      "cell_type": "markdown",
      "source": [],
      "metadata": {
        "id": "LMYhAQU9jDaj"
      }
    },
    {
      "cell_type": "code",
      "source": [
        "# (b) Expected time to reach Strong state from Weak state\n",
        "# Modify the transition matrix to consider Weak as the initial state and Strong as absorbing\n",
        "P_modified = np.array([[2/3, 1/3, 0.0],  # Weak to Weak, Average, Strong\n",
        "                       [0.25, 0.5, 0.25],  # Average to Weak, Average, Strong\n",
        "                       [0.0, 0.0, 1.0]])  # Strong to Weak, Average, Strong (absorbing state)\n",
        "Q_b = P_modified[:2, :2]\n",
        "I_b = np.eye(len(Q_b))\n",
        "expected_time_weak_to_strong = np.linalg.inv(I_b - Q_b).dot(ones_a[:2])\n",
        "\n",
        "expected_time_weak_to_strong"
      ],
      "metadata": {
        "colab": {
          "base_uri": "https://localhost:8080/"
        },
        "id": "aGIugOP4m5cI",
        "outputId": "d6cff7b5-b855-45a9-eeae-0612e0d0a171"
      },
      "execution_count": 9,
      "outputs": [
        {
          "output_type": "execute_result",
          "data": {
            "text/plain": [
              "array([10.,  7.])"
            ]
          },
          "metadata": {},
          "execution_count": 9
        }
      ]
    },
    {
      "cell_type": "markdown",
      "source": [
        "For a school with a strong team, on average, it will be approximately 0.39 years before it has another strong team\n",
        " For a school with a weak team, alumni must wait on average 10 years for the team to become strong again."
      ],
      "metadata": {
        "id": "7rPOzclarlF8"
      }
    }
  ]
}