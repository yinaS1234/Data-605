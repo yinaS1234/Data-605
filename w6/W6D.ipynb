{
 "cells": [
  {
   "cell_type": "code",
   "execution_count": 2,
   "metadata": {},
   "outputs": [
    {
     "name": "stdout",
     "output_type": "stream",
     "text": [
      "         1          \n",
      "        1 1         \n",
      "       1 2 1        \n",
      "      1 3 3 1       \n",
      "     1 4 6 4 1      \n",
      "   1 5 10 10 5 1    \n",
      "  1 6 15 20 15 6 1  \n",
      "1 7 21 35 35 21 7 1 \n",
      "1 8 28 56 70 56 28 8 1\n",
      "1 9 36 84 126 126 84 36 9 1\n",
      "\n"
     ]
    }
   ],
   "source": [
    "def generate_pascals_triangle(n):\n",
    "    triangle = []  # This will hold the rows of Pascal's triangle\n",
    "\n",
    "    for row_num in range(n):\n",
    "        if row_num == 0:\n",
    "            row = [1]\n",
    "            triangle.append(row)\n",
    "            continue\n",
    "\n",
    "        \n",
    "        row = [1]\n",
    "\n",
    "       \n",
    "        for j in range(1, row_num):\n",
    "            row.append(triangle[row_num - 1][j - 1] + triangle[row_num - 1][j])\n",
    "\n",
    "        row.append(1)\n",
    "        triangle.append(row)\n",
    "\n",
    "    return triangle\n",
    "\n",
    "# Function to print the triangle in a formatted way\n",
    "def print_pascals_triangle(triangle):\n",
    "    for row in triangle:\n",
    "        print(' '.join([str(x) for x in row]).center(len(triangle[-1]) * 2))\n",
    "    print()  \n",
    "# Generate and print Pascal's triangle for n rows\n",
    "n = 10  \n",
    "triangle = generate_pascals_triangle(n)\n",
    "print_pascals_triangle(triangle)"
   ]
  }
 ],
 "metadata": {
  "kernelspec": {
   "display_name": "Python 3",
   "language": "python",
   "name": "python3"
  },
  "language_info": {
   "codemirror_mode": {
    "name": "ipython",
    "version": 3
   },
   "file_extension": ".py",
   "mimetype": "text/x-python",
   "name": "python",
   "nbconvert_exporter": "python",
   "pygments_lexer": "ipython3",
   "version": "3.11.5"
  }
 },
 "nbformat": 4,
 "nbformat_minor": 2
}
